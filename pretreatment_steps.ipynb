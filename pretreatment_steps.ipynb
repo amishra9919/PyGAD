{
 "cells": [
  {
   "cell_type": "code",
   "execution_count": 3,
   "metadata": {},
   "outputs": [],
   "source": [
    "import pandas as pd\n",
    "import numpy as np\n",
    "import psycopg2\n",
    "\n",
    "from sklearn.preprocessing import RobustScaler\n",
    "import tsmoothie "
   ]
  },
  {
   "cell_type": "code",
   "execution_count": 4,
   "metadata": {},
   "outputs": [],
   "source": [
    "def data_extractor(asset,cols=['DCP','DNCP','OPCP','HPCP','LPCP','CPCP','ACPCP','VTCP','MPN5P']):\n",
    "    # The credentials to conect to the database\n",
    "    hostname = 'database-1.ctzm0hf7fhri.eu-central-1.rds.amazonaws.com'\n",
    "    database = 'dyDATA_new'\n",
    "    username = 'postgres'\n",
    "    pwd = 'Proc2023awsrdspostgresql'\n",
    "    port_id = 5432\n",
    "    conn = None\n",
    "    asset_script=\"SELECT * FROM \"+'\\\"'+\"ASSET_\"+asset+'\\\"'+\".features_targets_input_view WHERE features_targets_input_view.\"+'\\\"'+\"cleaned_raw_features_environment_PK\"+'\\\"'+ \"= 4\"\n",
    "    # Here we select the active financial asset from the financial asset list table\n",
    "    try:\n",
    "        with psycopg2.connect(\n",
    "            host = hostname,\n",
    "            dbname = database,\n",
    "            user = username,\n",
    "            password = pwd,\n",
    "            port = port_id\n",
    "        ) as conn:\n",
    "            dataframe = pd.read_sql(asset_script,conn)\n",
    "    except Exception as error:\n",
    "        conn.close()\n",
    "        return error\n",
    "    finally:\n",
    "        if conn is not None:\n",
    "            conn.close()\n",
    "    dataframe = dataframe.filter(regex='|'.join(cols),axis=1)\n",
    "    \n",
    "    for i,j in zip(cols,dataframe.columns):\n",
    "        dataframe.rename(columns={j:i},inplace=True)\n",
    "\n",
    "    return dataframe"
   ]
  },
  {
   "cell_type": "code",
   "execution_count": 5,
   "metadata": {},
   "outputs": [
    {
     "name": "stderr",
     "output_type": "stream",
     "text": [
      "C:\\Users\\DELL\\AppData\\Local\\Temp\\ipykernel_7964\\1301242928.py:19: UserWarning: pandas only supports SQLAlchemy connectable (engine/connection) or database string URI or sqlite3 DBAPI2 connection. Other DBAPI2 objects are not tested. Please consider using SQLAlchemy.\n",
      "  dataframe = pd.read_sql(asset_script,conn)\n"
     ]
    },
    {
     "ename": "AttributeError",
     "evalue": "'DatabaseError' object has no attribute 'set_index'",
     "output_type": "error",
     "traceback": [
      "\u001b[1;31m---------------------------------------------------------------------------\u001b[0m",
      "\u001b[1;31mAttributeError\u001b[0m                            Traceback (most recent call last)",
      "Cell \u001b[1;32mIn[5], line 2\u001b[0m\n\u001b[0;32m      1\u001b[0m df \u001b[39m=\u001b[39m data_extractor(asset\u001b[39m=\u001b[39m\u001b[39m'\u001b[39m\u001b[39mMSFT\u001b[39m\u001b[39m'\u001b[39m)\n\u001b[1;32m----> 2\u001b[0m df\u001b[39m.\u001b[39;49mset_index(\u001b[39m'\u001b[39m\u001b[39mDCP\u001b[39m\u001b[39m'\u001b[39m, inplace\u001b[39m=\u001b[39m\u001b[39mTrue\u001b[39;00m) \n\u001b[0;32m      3\u001b[0m features \u001b[39m=\u001b[39m [\u001b[39m'\u001b[39m\u001b[39mOPCP\u001b[39m\u001b[39m'\u001b[39m, \u001b[39m'\u001b[39m\u001b[39mHPCP\u001b[39m\u001b[39m'\u001b[39m, \u001b[39m'\u001b[39m\u001b[39mLPCP\u001b[39m\u001b[39m'\u001b[39m, \u001b[39m'\u001b[39m\u001b[39mCPCP\u001b[39m\u001b[39m'\u001b[39m, \u001b[39m'\u001b[39m\u001b[39mACPCP\u001b[39m\u001b[39m'\u001b[39m, \u001b[39m'\u001b[39m\u001b[39mVTCP\u001b[39m\u001b[39m'\u001b[39m]\u001b[39m# 'F1', 'F2', 'F3'] \u001b[39;00m\n\u001b[0;32m      4\u001b[0m target \u001b[39m=\u001b[39m \u001b[39m'\u001b[39m\u001b[39mMPN5P\u001b[39m\u001b[39m'\u001b[39m\n",
      "\u001b[1;31mAttributeError\u001b[0m: 'DatabaseError' object has no attribute 'set_index'"
     ]
    }
   ],
   "source": [
    "df = data_extractor(asset='MSFT')\n",
    "df.set_index('DCP', inplace=True) \n",
    "features = ['OPCP', 'HPCP', 'LPCP', 'CPCP', 'ACPCP', 'VTCP']# 'F1', 'F2', 'F3'] \n",
    "target = 'MPN5P'\n",
    "df = df[features + [target]]\n",
    "df.head()"
   ]
  },
  {
   "cell_type": "code",
   "execution_count": 322,
   "metadata": {},
   "outputs": [],
   "source": [
    "train_start = '2000-01-01'\n",
    "train_end = '2021-12-31'\n",
    "test_start = '2022-01-01'\n",
    "test_end = '2022-12-30'\n",
    "\n",
    "train = df.loc[(df.index >= train_start) & (df.index <= train_end)]\n",
    "test = df.loc[(df.index >= test_start) & (df.index <= test_end)]"
   ]
  },
  {
   "cell_type": "code",
   "execution_count": 323,
   "metadata": {},
   "outputs": [],
   "source": [
    "X_train = train.drop(\"MPN5P\", axis=1)\n",
    "y_train = train[\"MPN5P\"]\n",
    "\n",
    "X_test = test.drop(\"MPN5P\", axis=1)\n",
    "y_test = test[\"MPN5P\"]"
   ]
  },
  {
   "cell_type": "code",
   "execution_count": 324,
   "metadata": {},
   "outputs": [
    {
     "data": {
      "text/plain": [
       "DCP\n",
       "2022-01-03    314.7200\n",
       "2022-01-04    314.1500\n",
       "2022-01-05    314.1500\n",
       "2022-01-06    314.1500\n",
       "2022-01-07    313.3800\n",
       "                ...   \n",
       "2022-12-23    238.5575\n",
       "2022-12-27    237.4000\n",
       "2022-12-28    236.6600\n",
       "2022-12-29    230.0525\n",
       "2022-12-30    227.2000\n",
       "Name: MPN5P, Length: 251, dtype: float64"
      ]
     },
     "execution_count": 324,
     "metadata": {},
     "output_type": "execute_result"
    }
   ],
   "source": [
    "y_test"
   ]
  },
  {
   "cell_type": "code",
   "execution_count": 325,
   "metadata": {},
   "outputs": [],
   "source": [
    "def log_transform(dataframe):\n",
    "    transformed_df = np.log(dataframe)\n",
    "    transformed_df = transformed_df.fillna(-1)\n",
    "    return transformed_df\n",
    "\n",
    "kalman_smoother = tsmoothie.KalmanSmoother(component='level_trend', component_noise={'level':0.1, 'trend':0.1})\n",
    "def kalman_filter(dataframe):\n",
    "    dataframe = pd.DataFrame(dataframe)\n",
    "    smoothed_data = pd.DataFrame()\n",
    "    for column in dataframe.columns:\n",
    "        smoothed_data[column] = pd.Series(kalman_smoother.smooth(dataframe[column]).smooth_data.flatten(), index=dataframe.index)\n",
    "    return smoothed_data "
   ]
  },
  {
   "cell_type": "markdown",
   "metadata": {},
   "source": [
    "### Log Transform"
   ]
  },
  {
   "cell_type": "code",
   "execution_count": 326,
   "metadata": {},
   "outputs": [],
   "source": [
    "X_train = np.log(X_train)\n",
    "y_train = np.log(y_train)\n",
    "\n",
    "X_test = np.log(X_test)\n",
    "y_test = np.log(y_test)"
   ]
  },
  {
   "cell_type": "code",
   "execution_count": 327,
   "metadata": {},
   "outputs": [
    {
     "data": {
      "text/html": [
       "<div>\n",
       "<style scoped>\n",
       "    .dataframe tbody tr th:only-of-type {\n",
       "        vertical-align: middle;\n",
       "    }\n",
       "\n",
       "    .dataframe tbody tr th {\n",
       "        vertical-align: top;\n",
       "    }\n",
       "\n",
       "    .dataframe thead th {\n",
       "        text-align: right;\n",
       "    }\n",
       "</style>\n",
       "<table border=\"1\" class=\"dataframe\">\n",
       "  <thead>\n",
       "    <tr style=\"text-align: right;\">\n",
       "      <th></th>\n",
       "      <th>OPCP</th>\n",
       "      <th>HPCP</th>\n",
       "      <th>LPCP</th>\n",
       "      <th>CPCP</th>\n",
       "      <th>ACPCP</th>\n",
       "      <th>VTCP</th>\n",
       "    </tr>\n",
       "    <tr>\n",
       "      <th>DCP</th>\n",
       "      <th></th>\n",
       "      <th></th>\n",
       "      <th></th>\n",
       "      <th></th>\n",
       "      <th></th>\n",
       "      <th></th>\n",
       "    </tr>\n",
       "  </thead>\n",
       "  <tbody>\n",
       "    <tr>\n",
       "      <th>2000-01-03</th>\n",
       "      <td>4.072227</td>\n",
       "      <td>4.082820</td>\n",
       "      <td>4.025352</td>\n",
       "      <td>4.065280</td>\n",
       "      <td>3.591329</td>\n",
       "      <td>17.790103</td>\n",
       "    </tr>\n",
       "    <tr>\n",
       "      <th>2000-01-04</th>\n",
       "      <td>4.039206</td>\n",
       "      <td>4.070095</td>\n",
       "      <td>4.027581</td>\n",
       "      <td>4.030917</td>\n",
       "      <td>3.556965</td>\n",
       "      <td>17.806696</td>\n",
       "    </tr>\n",
       "    <tr>\n",
       "      <th>2000-01-05</th>\n",
       "      <td>4.017509</td>\n",
       "      <td>4.063671</td>\n",
       "      <td>4.001635</td>\n",
       "      <td>4.041405</td>\n",
       "      <td>3.567453</td>\n",
       "      <td>17.975324</td>\n",
       "    </tr>\n",
       "    <tr>\n",
       "      <th>2000-01-06</th>\n",
       "      <td>4.027024</td>\n",
       "      <td>4.041954</td>\n",
       "      <td>3.992450</td>\n",
       "      <td>4.007333</td>\n",
       "      <td>3.533382</td>\n",
       "      <td>17.822418</td>\n",
       "    </tr>\n",
       "    <tr>\n",
       "      <th>2000-01-07</th>\n",
       "      <td>3.994754</td>\n",
       "      <td>4.027581</td>\n",
       "      <td>3.982598</td>\n",
       "      <td>4.020317</td>\n",
       "      <td>3.546365</td>\n",
       "      <td>17.942864</td>\n",
       "    </tr>\n",
       "    <tr>\n",
       "      <th>...</th>\n",
       "      <td>...</td>\n",
       "      <td>...</td>\n",
       "      <td>...</td>\n",
       "      <td>...</td>\n",
       "      <td>...</td>\n",
       "      <td>...</td>\n",
       "    </tr>\n",
       "    <tr>\n",
       "      <th>2021-12-27</th>\n",
       "      <td>5.815503</td>\n",
       "      <td>5.836213</td>\n",
       "      <td>5.815413</td>\n",
       "      <td>5.836126</td>\n",
       "      <td>5.822114</td>\n",
       "      <td>16.808589</td>\n",
       "    </tr>\n",
       "    <tr>\n",
       "      <th>2021-12-28</th>\n",
       "      <td>5.838168</td>\n",
       "      <td>5.840089</td>\n",
       "      <td>5.829886</td>\n",
       "      <td>5.832615</td>\n",
       "      <td>5.818604</td>\n",
       "      <td>16.566716</td>\n",
       "    </tr>\n",
       "    <tr>\n",
       "      <th>2021-12-29</th>\n",
       "      <td>5.832762</td>\n",
       "      <td>5.841513</td>\n",
       "      <td>5.828004</td>\n",
       "      <td>5.834665</td>\n",
       "      <td>5.820653</td>\n",
       "      <td>16.526357</td>\n",
       "    </tr>\n",
       "    <tr>\n",
       "      <th>2021-12-30</th>\n",
       "      <td>5.834548</td>\n",
       "      <td>5.838109</td>\n",
       "      <td>5.825469</td>\n",
       "      <td>5.826944</td>\n",
       "      <td>5.812932</td>\n",
       "      <td>16.587755</td>\n",
       "    </tr>\n",
       "    <tr>\n",
       "      <th>2021-12-31</th>\n",
       "      <td>5.824554</td>\n",
       "      <td>5.827061</td>\n",
       "      <td>5.816665</td>\n",
       "      <td>5.818063</td>\n",
       "      <td>5.804051</td>\n",
       "      <td>16.705927</td>\n",
       "    </tr>\n",
       "  </tbody>\n",
       "</table>\n",
       "<p>5536 rows × 6 columns</p>\n",
       "</div>"
      ],
      "text/plain": [
       "                OPCP      HPCP      LPCP      CPCP     ACPCP       VTCP\n",
       "DCP                                                                    \n",
       "2000-01-03  4.072227  4.082820  4.025352  4.065280  3.591329  17.790103\n",
       "2000-01-04  4.039206  4.070095  4.027581  4.030917  3.556965  17.806696\n",
       "2000-01-05  4.017509  4.063671  4.001635  4.041405  3.567453  17.975324\n",
       "2000-01-06  4.027024  4.041954  3.992450  4.007333  3.533382  17.822418\n",
       "2000-01-07  3.994754  4.027581  3.982598  4.020317  3.546365  17.942864\n",
       "...              ...       ...       ...       ...       ...        ...\n",
       "2021-12-27  5.815503  5.836213  5.815413  5.836126  5.822114  16.808589\n",
       "2021-12-28  5.838168  5.840089  5.829886  5.832615  5.818604  16.566716\n",
       "2021-12-29  5.832762  5.841513  5.828004  5.834665  5.820653  16.526357\n",
       "2021-12-30  5.834548  5.838109  5.825469  5.826944  5.812932  16.587755\n",
       "2021-12-31  5.824554  5.827061  5.816665  5.818063  5.804051  16.705927\n",
       "\n",
       "[5536 rows x 6 columns]"
      ]
     },
     "execution_count": 327,
     "metadata": {},
     "output_type": "execute_result"
    }
   ],
   "source": [
    "X_train"
   ]
  },
  {
   "cell_type": "markdown",
   "metadata": {},
   "source": [
    "### Kalman Filter"
   ]
  },
  {
   "cell_type": "code",
   "execution_count": 328,
   "metadata": {},
   "outputs": [],
   "source": [
    "X_train = kalman_filter(X_train)\n",
    "y_train = kalman_filter(y_train)\n",
    "\n",
    "X_test = kalman_filter(X_test)\n",
    "y_test = kalman_filter(y_test)"
   ]
  },
  {
   "cell_type": "markdown",
   "metadata": {},
   "source": [
    "### Robust Scaler"
   ]
  },
  {
   "cell_type": "code",
   "execution_count": 329,
   "metadata": {},
   "outputs": [],
   "source": [
    "scaler_features = RobustScaler().fit(X_train)\n",
    "scaler_target = RobustScaler().fit(y_train)"
   ]
  },
  {
   "cell_type": "code",
   "execution_count": 330,
   "metadata": {},
   "outputs": [],
   "source": [
    "X_train = pd.DataFrame(scaler_features.transform(X_train), columns = features)\n",
    "y_train = pd.DataFrame(scaler_target.transform(y_train), columns = [target])"
   ]
  },
  {
   "cell_type": "code",
   "execution_count": 331,
   "metadata": {},
   "outputs": [],
   "source": [
    "X_test = pd.DataFrame(scaler_features.transform(X_test), columns = features)\n",
    "y_test = pd.DataFrame(scaler_target.transform(y_test), columns = [target])"
   ]
  },
  {
   "cell_type": "markdown",
   "metadata": {},
   "source": [
    "### Post Treatment"
   ]
  },
  {
   "cell_type": "code",
   "execution_count": 332,
   "metadata": {},
   "outputs": [
    {
     "data": {
      "text/html": [
       "<div>\n",
       "<style scoped>\n",
       "    .dataframe tbody tr th:only-of-type {\n",
       "        vertical-align: middle;\n",
       "    }\n",
       "\n",
       "    .dataframe tbody tr th {\n",
       "        vertical-align: top;\n",
       "    }\n",
       "\n",
       "    .dataframe thead th {\n",
       "        text-align: right;\n",
       "    }\n",
       "</style>\n",
       "<table border=\"1\" class=\"dataframe\">\n",
       "  <thead>\n",
       "    <tr style=\"text-align: right;\">\n",
       "      <th></th>\n",
       "      <th>MPN5P</th>\n",
       "    </tr>\n",
       "  </thead>\n",
       "  <tbody>\n",
       "    <tr>\n",
       "      <th>0</th>\n",
       "      <td>277.078549</td>\n",
       "    </tr>\n",
       "    <tr>\n",
       "      <th>1</th>\n",
       "      <td>292.245575</td>\n",
       "    </tr>\n",
       "    <tr>\n",
       "      <th>2</th>\n",
       "      <td>303.103834</td>\n",
       "    </tr>\n",
       "    <tr>\n",
       "      <th>3</th>\n",
       "      <td>309.469859</td>\n",
       "    </tr>\n",
       "    <tr>\n",
       "      <th>4</th>\n",
       "      <td>312.023011</td>\n",
       "    </tr>\n",
       "    <tr>\n",
       "      <th>...</th>\n",
       "      <td>...</td>\n",
       "    </tr>\n",
       "    <tr>\n",
       "      <th>246</th>\n",
       "      <td>237.161548</td>\n",
       "    </tr>\n",
       "    <tr>\n",
       "      <th>247</th>\n",
       "      <td>235.920113</td>\n",
       "    </tr>\n",
       "    <tr>\n",
       "      <th>248</th>\n",
       "      <td>234.024926</td>\n",
       "    </tr>\n",
       "    <tr>\n",
       "      <th>249</th>\n",
       "      <td>231.419488</td>\n",
       "    </tr>\n",
       "    <tr>\n",
       "      <th>250</th>\n",
       "      <td>228.816403</td>\n",
       "    </tr>\n",
       "  </tbody>\n",
       "</table>\n",
       "<p>251 rows × 1 columns</p>\n",
       "</div>"
      ],
      "text/plain": [
       "          MPN5P\n",
       "0    277.078549\n",
       "1    292.245575\n",
       "2    303.103834\n",
       "3    309.469859\n",
       "4    312.023011\n",
       "..          ...\n",
       "246  237.161548\n",
       "247  235.920113\n",
       "248  234.024926\n",
       "249  231.419488\n",
       "250  228.816403\n",
       "\n",
       "[251 rows x 1 columns]"
      ]
     },
     "execution_count": 332,
     "metadata": {},
     "output_type": "execute_result"
    }
   ],
   "source": [
    "y_test = scaler_target.inverse_transform(y_test)\n",
    "y_test = np.exp(y_test)\n",
    "\n",
    "y_test = pd.DataFrame(y_test, columns=[target])\n",
    "y_test"
   ]
  }
 ],
 "metadata": {
  "kernelspec": {
   "display_name": "Python 3",
   "language": "python",
   "name": "python3"
  },
  "language_info": {
   "codemirror_mode": {
    "name": "ipython",
    "version": 3
   },
   "file_extension": ".py",
   "mimetype": "text/x-python",
   "name": "python",
   "nbconvert_exporter": "python",
   "pygments_lexer": "ipython3",
   "version": "3.11.4"
  }
 },
 "nbformat": 4,
 "nbformat_minor": 2
}
